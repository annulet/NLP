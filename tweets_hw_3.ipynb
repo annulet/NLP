{
 "cells": [
  {
   "cell_type": "markdown",
   "metadata": {},
   "source": [
    "## Тема “Создание признакового пространства” "
   ]
  },
  {
   "cell_type": "markdown",
   "metadata": {},
   "source": [
    "### Используем предобработанные в рамках 1-ого домашнего задания датасет combine_df_prepocessed.pkl. Используем столбец 'clean_tweet'. "
   ]
  },
  {
   "cell_type": "code",
   "execution_count": 1,
   "metadata": {},
   "outputs": [],
   "source": [
    "import pandas as pd\n",
    "import numpy as np\n",
    "\n",
    "import re\n",
    "\n",
    "import string\n",
    "from stop_words import get_stop_words\n",
    "from pymorphy2 import MorphAnalyzer\n",
    "\n",
    "import spacy\n",
    "import nltk\n",
    "from nltk.tokenize import word_tokenize\n",
    "\n",
    "from gensim.models import Word2Vec\n",
    "\n",
    "import warnings \n",
    "warnings.filterwarnings(\"ignore\")\n",
    "import os"
   ]
  },
  {
   "cell_type": "markdown",
   "metadata": {},
   "source": [
    "#### Задание 1. \n",
    "\n",
    "Используя библиотеку Spacy, вывести ТОП-20 популярных NER в combine_df датасете. Какой тип NER (ORG, GPE, PERSON и тд) оказался самым популярным? (Учтите, что max_word_limit_spacy для Spacy = 1000000) \n",
    "\n",
    "С помощью Spacy выяснить: какие персоны и организации самые обсуждаемые в train и test датасетах? вывести ТОП-20 самых популярных. Действительно ли в топ вошли только персоны и организации или есть мусор? \n",
    "\n",
    "Повторим шаги из заданий 1 и 2, используя библиотеку nltk. "
   ]
  },
  {
   "cell_type": "code",
   "execution_count": 2,
   "metadata": {},
   "outputs": [
    {
     "data": {
      "text/html": [
       "<div>\n",
       "<style scoped>\n",
       "    .dataframe tbody tr th:only-of-type {\n",
       "        vertical-align: middle;\n",
       "    }\n",
       "\n",
       "    .dataframe tbody tr th {\n",
       "        vertical-align: top;\n",
       "    }\n",
       "\n",
       "    .dataframe thead th {\n",
       "        text-align: right;\n",
       "    }\n",
       "</style>\n",
       "<table border=\"1\" class=\"dataframe\">\n",
       "  <thead>\n",
       "    <tr style=\"text-align: right;\">\n",
       "      <th></th>\n",
       "      <th>id</th>\n",
       "      <th>label</th>\n",
       "      <th>tweet</th>\n",
       "      <th>clean_tweet</th>\n",
       "      <th>tweet_token</th>\n",
       "      <th>tweet_stemmed</th>\n",
       "      <th>tweet_lemmatized</th>\n",
       "    </tr>\n",
       "  </thead>\n",
       "  <tbody>\n",
       "    <tr>\n",
       "      <th>0</th>\n",
       "      <td>1</td>\n",
       "      <td>0.0</td>\n",
       "      <td>@user when a father is dysfunctional and is s...</td>\n",
       "      <td>when father is dysfunctional and is so selfish...</td>\n",
       "      <td>[father, dysfunctional, selfish, drags, kids, ...</td>\n",
       "      <td>[father, dysfunct, selfish, drag, kid, dysfunc...</td>\n",
       "      <td>[father, dysfunctional, selfish, drag, kid, dy...</td>\n",
       "    </tr>\n",
       "    <tr>\n",
       "      <th>1</th>\n",
       "      <td>2</td>\n",
       "      <td>0.0</td>\n",
       "      <td>@user @user thanks for #lyft credit i can't us...</td>\n",
       "      <td>thanks for lyft credit cannot use cause they d...</td>\n",
       "      <td>[thanks, lyft, credit, use, cause, offer, whee...</td>\n",
       "      <td>[thank, lyft, credit, use, caus, offer, wheelc...</td>\n",
       "      <td>[thanks, lyft, credit, use, cause, offer, whee...</td>\n",
       "    </tr>\n",
       "  </tbody>\n",
       "</table>\n",
       "</div>"
      ],
      "text/plain": [
       "   id  label                                              tweet  \\\n",
       "0   1    0.0   @user when a father is dysfunctional and is s...   \n",
       "1   2    0.0  @user @user thanks for #lyft credit i can't us...   \n",
       "\n",
       "                                         clean_tweet  \\\n",
       "0  when father is dysfunctional and is so selfish...   \n",
       "1  thanks for lyft credit cannot use cause they d...   \n",
       "\n",
       "                                         tweet_token  \\\n",
       "0  [father, dysfunctional, selfish, drags, kids, ...   \n",
       "1  [thanks, lyft, credit, use, cause, offer, whee...   \n",
       "\n",
       "                                       tweet_stemmed  \\\n",
       "0  [father, dysfunct, selfish, drag, kid, dysfunc...   \n",
       "1  [thank, lyft, credit, use, caus, offer, wheelc...   \n",
       "\n",
       "                                    tweet_lemmatized  \n",
       "0  [father, dysfunctional, selfish, drag, kid, dy...  \n",
       "1  [thanks, lyft, credit, use, cause, offer, whee...  "
      ]
     },
     "execution_count": 2,
     "metadata": {},
     "output_type": "execute_result"
    }
   ],
   "source": [
    "processed_df = pd.read_pickle('processed_df.pkl')\n",
    "processed_df.head(2)"
   ]
  },
  {
   "cell_type": "code",
   "execution_count": 3,
   "metadata": {},
   "outputs": [
    {
     "name": "stdout",
     "output_type": "stream",
     "text": [
      "Wall time: 4min 30s\n"
     ]
    },
    {
     "data": {
      "text/html": [
       "<div>\n",
       "<style scoped>\n",
       "    .dataframe tbody tr th:only-of-type {\n",
       "        vertical-align: middle;\n",
       "    }\n",
       "\n",
       "    .dataframe tbody tr th {\n",
       "        vertical-align: top;\n",
       "    }\n",
       "\n",
       "    .dataframe thead th {\n",
       "        text-align: right;\n",
       "    }\n",
       "</style>\n",
       "<table border=\"1\" class=\"dataframe\">\n",
       "  <thead>\n",
       "    <tr style=\"text-align: right;\">\n",
       "      <th></th>\n",
       "      <th>word</th>\n",
       "      <th>ner</th>\n",
       "    </tr>\n",
       "  </thead>\n",
       "  <tbody>\n",
       "    <tr>\n",
       "      <th>0</th>\n",
       "      <td>wheelchair vans</td>\n",
       "      <td>ORG</td>\n",
       "    </tr>\n",
       "    <tr>\n",
       "      <th>1</th>\n",
       "      <td>pdx</td>\n",
       "      <td>ORG</td>\n",
       "    </tr>\n",
       "    <tr>\n",
       "      <th>2</th>\n",
       "      <td>bihday</td>\n",
       "      <td>PERSON</td>\n",
       "    </tr>\n",
       "    <tr>\n",
       "      <th>3</th>\n",
       "      <td>tomorrow</td>\n",
       "      <td>DATE</td>\n",
       "    </tr>\n",
       "    <tr>\n",
       "      <th>4</th>\n",
       "      <td>the next school year</td>\n",
       "      <td>DATE</td>\n",
       "    </tr>\n",
       "  </tbody>\n",
       "</table>\n",
       "</div>"
      ],
      "text/plain": [
       "                   word     ner\n",
       "0       wheelchair vans     ORG\n",
       "1                   pdx     ORG\n",
       "2                bihday  PERSON\n",
       "3              tomorrow    DATE\n",
       "4  the next school year    DATE"
      ]
     },
     "execution_count": 3,
     "metadata": {},
     "output_type": "execute_result"
    }
   ],
   "source": [
    "%%time\n",
    "# Load English tokenizer, tagger, parser, NER and word vectors\n",
    "nlp = spacy.load(\"en_core_web_sm\")\n",
    "processed_df['NER'] = processed_df['clean_tweet'].apply(lambda x:  nlp(x))\n",
    "\n",
    "ner = processed_df['NER'].tolist()\n",
    "\n",
    "NER = []\n",
    "for doc in ner:\n",
    "    for ent in doc.ents:\n",
    "        NER.append((ent.text, ent.label_))\n",
    "\n",
    "df_ner = pd.DataFrame(NER, columns=['word', 'ner'])\n",
    "df_ner.head()"
   ]
  },
  {
   "cell_type": "markdown",
   "metadata": {},
   "source": [
    "#### ТОП-20 популярных NER"
   ]
  },
  {
   "cell_type": "code",
   "execution_count": 4,
   "metadata": {},
   "outputs": [
    {
     "data": {
      "text/plain": [
       "DATE           11507\n",
       "PERSON          8040\n",
       "ORG             5575\n",
       "GPE             4570\n",
       "TIME            2021\n",
       "NORP            1448\n",
       "CARDINAL        1098\n",
       "ORDINAL          647\n",
       "FAC              303\n",
       "LOC              216\n",
       "EVENT            151\n",
       "PRODUCT           63\n",
       "LANGUAGE          43\n",
       "QUANTITY          34\n",
       "WORK_OF_ART       27\n",
       "LAW               21\n",
       "MONEY              8\n",
       "PERCENT            3\n",
       "Name: ner, dtype: int64"
      ]
     },
     "execution_count": 4,
     "metadata": {},
     "output_type": "execute_result"
    }
   ],
   "source": [
    "top_20_ner = df_ner.ner.value_counts().head(20)\n",
    "top_20_ner"
   ]
  },
  {
   "cell_type": "markdown",
   "metadata": {},
   "source": [
    "#### Топ-20 персон"
   ]
  },
  {
   "cell_type": "code",
   "execution_count": 5,
   "metadata": {},
   "outputs": [
    {
     "data": {
      "text/plain": [
       "hea                                                        116\n",
       "hu                                                          83\n",
       "blur sun                                                    54\n",
       "bihday                                                      46\n",
       "feminismiscancer feminismisterrorism feminismmuktbharat     40\n",
       "christina grimmie                                           38\n",
       "hillary                                                     36\n",
       "sikh temple                                                 28\n",
       "tgif ff                                                     26\n",
       "don                                                         24\n",
       "clinton                                                     21\n",
       "detoxdiet altwaystoheal                                     21\n",
       "ripchristina                                                20\n",
       "jo cox                                                      20\n",
       "carl paladino                                               19\n",
       "regrann                                                     17\n",
       "karen iqbal                                                 17\n",
       "donald trump                                                16\n",
       "moon                                                        15\n",
       "anton yelchin                                               15\n",
       "Name: word, dtype: int64"
      ]
     },
     "execution_count": 5,
     "metadata": {},
     "output_type": "execute_result"
    }
   ],
   "source": [
    "top_20_pers = df_ner.loc[df_ner['ner'] == 'PERSON']\n",
    "\n",
    "top_20_pers = top_20_pers.word.value_counts().head(20)\n",
    "top_20_pers"
   ]
  },
  {
   "cell_type": "markdown",
   "metadata": {},
   "source": [
    "#### Тот-20 организаций"
   ]
  },
  {
   "cell_type": "code",
   "execution_count": 6,
   "metadata": {},
   "outputs": [
    {
     "data": {
      "text/plain": [
       "bong bing           107\n",
       "app                  84\n",
       "gop                  77\n",
       "islam                58\n",
       "house                46\n",
       "social analytics     40\n",
       "nba                  39\n",
       "usa                  34\n",
       "amazon               32\n",
       "sta                  31\n",
       "sma                  30\n",
       "cnn                  28\n",
       "euro                 26\n",
       "fed                  25\n",
       "ios                  23\n",
       "eu                   22\n",
       "fbi                  21\n",
       "sun                  20\n",
       "bogota colombia      20\n",
       "congress             19\n",
       "Name: word, dtype: int64"
      ]
     },
     "execution_count": 6,
     "metadata": {},
     "output_type": "execute_result"
    }
   ],
   "source": [
    "top_20_org = df_ner.loc[df_ner['ner'] == 'ORG']\n",
    "\n",
    "top_20_org = top_20_org.word.value_counts().head(20)\n",
    "top_20_org"
   ]
  },
  {
   "cell_type": "markdown",
   "metadata": {},
   "source": [
    "#### Задание 2. \n",
    "\n",
    "Используя библиотеку nltk, вывести ТОП-20 популярных NER в combine_df датасете. Какой тип NER (ORG, GPE, PERSON и тд) оказался самым популярным? Для данного задания используем ограничение на количество символов во входном датасете (max_word_limit_spacy = 1000000), чтобы иметь возможность сравнить результаты работы Spacy и nltk. Обратите внимание, что nltk чувствителен к регистру. \n",
    "\n",
    "С помощью nltk выяснить: какие персоны и организации самые обсуждаемые в train и test датасетах? вывести ТОП-20 самых популярных. Действительно ли в топ вошли только персоны и организации или есть мусор? "
   ]
  },
  {
   "cell_type": "code",
   "execution_count": 7,
   "metadata": {},
   "outputs": [
    {
     "name": "stdout",
     "output_type": "stream",
     "text": [
      "Wall time: 44.8 s\n"
     ]
    },
    {
     "data": {
      "text/plain": [
       "0    [(father, RBR), (dysfunctional, JJ), (selfish,...\n",
       "1    [(thanks, NNS), (lyft, VBP), (credit, NN), (ca...\n",
       "2                        [(bihday, NN), (majesty, NN)]\n",
       "3    [(model, NN), (love, NN), (u, JJ), (take, VB),...\n",
       "4    [(factsguide, JJ), (society, NN), (now, RB), (...\n",
       "Name: tagged, dtype: object"
      ]
     },
     "execution_count": 7,
     "metadata": {},
     "output_type": "execute_result"
    }
   ],
   "source": [
    "%%time\n",
    "exclude = set(string.punctuation)\n",
    "stop_words = set(get_stop_words(\"en\"))\n",
    "morpher = MorphAnalyzer()\n",
    "\n",
    "\n",
    "def preprocess_text(txt):\n",
    "    txt = str(txt)\n",
    "    txt = re.sub('@[\\w]*', ' ', txt)\n",
    "    txt = re.sub(r'[^\\w\\s]',' ', txt)\n",
    "    txt = re.sub(r'[0-9]+', ' ', txt)\n",
    "    txt = re.sub('\\n', ' ', txt)\n",
    "    txt = \"\".join(c for c in txt if c not in exclude)\n",
    "    txt = [word for word in txt.split() if word not in exclude if word not in stop_words]\n",
    "    return \" \".join(txt)\n",
    "\n",
    "\n",
    "processed_df['tagged'] = processed_df['tweet'].apply(preprocess_text).apply(\n",
    "    lambda x: nltk.pos_tag(nltk.word_tokenize(x)) \n",
    ")\n",
    "\n",
    "processed_df['tagged'].head()"
   ]
  },
  {
   "cell_type": "code",
   "execution_count": 8,
   "metadata": {},
   "outputs": [],
   "source": [
    "corpus = []\n",
    "for text in processed_df['tagged'].tolist():\n",
    "    corpus.extend(text)"
   ]
  },
  {
   "cell_type": "code",
   "execution_count": 9,
   "metadata": {
    "scrolled": true
   },
   "outputs": [
    {
     "data": {
      "text/plain": [
       "442180"
      ]
     },
     "execution_count": 9,
     "metadata": {},
     "output_type": "execute_result"
    }
   ],
   "source": [
    "len(corpus)"
   ]
  },
  {
   "cell_type": "code",
   "execution_count": 10,
   "metadata": {},
   "outputs": [],
   "source": [
    "ner = {\n",
    "    (' '.join(c[0] for c in chunk), chunk.label()) \n",
    "    for chunk in nltk.ne_chunk(corpus) \n",
    "    if hasattr(chunk, 'label')\n",
    "}"
   ]
  },
  {
   "cell_type": "code",
   "execution_count": 11,
   "metadata": {},
   "outputs": [
    {
     "data": {
      "text/plain": [
       "{('adriÃ', 'ORGANIZATION'),\n",
       " ('aldilÃ', 'ORGANIZATION'),\n",
       " ('anaÃ', 'ORGANIZATION'),\n",
       " ('anchequestoÃ', 'ORGANIZATION'),\n",
       " ('andrÃ', 'ORGANIZATION'),\n",
       " ('areÂ', 'ORGANIZATION'),\n",
       " ('asÃ', 'ORGANIZATION'),\n",
       " ('atÂ', 'ORGANIZATION'),\n",
       " ('babalargÃ¼nÃ¼', 'ORGANIZATION'),\n",
       " ('befÄ', 'ORGANIZATION'),\n",
       " ('bellÃ', 'ORGANIZATION'),\n",
       " ('beyoncÃ', 'ORGANIZATION'),\n",
       " ('beyoÄ', 'ORGANIZATION'),\n",
       " ('bonnejournÃ', 'ORGANIZATION'),\n",
       " ('braggingÂ', 'ORGANIZATION'),\n",
       " ('brÃ¼ssel', 'ORGANIZATION'),\n",
       " ('cafÃ', 'ORGANIZATION'),\n",
       " ('canÂ', 'ORGANIZATION'),\n",
       " ('castaÃ', 'ORGANIZATION'),\n",
       " ('catedraldesaldezipaquirÃ', 'ORGANIZATION'),\n",
       " ('chloÃ', 'ORGANIZATION'),\n",
       " ('chÃ', 'ORGANIZATION'),\n",
       " ('citlaltÃ', 'ORGANIZATION'),\n",
       " ('comounniÃ', 'ORGANIZATION'),\n",
       " ('coolÂ', 'ORGANIZATION'),\n",
       " ('costeÃ', 'ORGANIZATION'),\n",
       " ('crÃªpes', 'ORGANIZATION'),\n",
       " ('cumpleaÃ', 'ORGANIZATION'),\n",
       " ('deberÃ de', 'ORGANIZATION'),\n",
       " ('depresiÃ³n', 'ORGANIZATION'),\n",
       " ('diplomalÄ', 'ORGANIZATION'),\n",
       " ('diversiÃ³n', 'ORGANIZATION'),\n",
       " ('divulgaÃ Ã', 'ORGANIZATION'),\n",
       " ('domÃ', 'ORGANIZATION'),\n",
       " ('donÂ', 'ORGANIZATION'),\n",
       " ('doppelgÃ', 'ORGANIZATION'),\n",
       " ('dÃ¼Å Ã¼Å', 'ORGANIZATION'),\n",
       " ('eskiÅ', 'ORGANIZATION'),\n",
       " ('espaÃ', 'ORGANIZATION'),\n",
       " ('estÃ', 'ORGANIZATION'),\n",
       " ('exposÃ', 'ORGANIZATION'),\n",
       " ('fatherÃ Â', 'ORGANIZATION'),\n",
       " ('felicitÃ', 'ORGANIZATION'),\n",
       " ('fiancÃ', 'ORGANIZATION'),\n",
       " ('foiinÃ', 'ORGANIZATION'),\n",
       " ('forÃ', 'ORGANIZATION'),\n",
       " ('fpÃ', 'ORGANIZATION'),\n",
       " ('frÃ', 'ORGANIZATION'),\n",
       " ('fÃªte', 'ORGANIZATION'),\n",
       " ('gadaÃ', 'ORGANIZATION'),\n",
       " ('garÃ', 'ORGANIZATION'),\n",
       " ('gdaÅ', 'ORGANIZATION'),\n",
       " ('glÃ¼ck', 'ORGANIZATION'),\n",
       " ('godÂ Â', 'ORGANIZATION'),\n",
       " ('goodbyeÂ', 'ORGANIZATION'),\n",
       " ('gÃ¼mbet', 'ORGANIZATION'),\n",
       " ('happyÂ', 'ORGANIZATION'),\n",
       " ('hiÃ', 'ORGANIZATION'),\n",
       " ('husbandÂ', 'ORGANIZATION'),\n",
       " ('ilustraciÃ³n', 'ORGANIZATION'),\n",
       " ('indonesiafoheworldÂ', 'ORGANIZATION'),\n",
       " ('inglÃ', 'ORGANIZATION'),\n",
       " ('inspiraÃ Ã', 'ORGANIZATION'),\n",
       " ('instaviÃ', 'ORGANIZATION'),\n",
       " ('isleÃ', 'ORGANIZATION'),\n",
       " ('isÂ', 'ORGANIZATION'),\n",
       " ('itÂ', 'ORGANIZATION'),\n",
       " ('kesÃ', 'ORGANIZATION'),\n",
       " ('knaackÂ', 'ORGANIZATION'),\n",
       " ('kohlisoonÂ', 'ORGANIZATION'),\n",
       " ('koithÃ', 'ORGANIZATION'),\n",
       " ('koÅ', 'ORGANIZATION'),\n",
       " ('kwanzaaÂ', 'ORGANIZATION'),\n",
       " ('kÃ', 'ORGANIZATION'),\n",
       " ('kÃ²', 'ORGANIZATION'),\n",
       " ('laclÃ', 'ORGANIZATION'),\n",
       " ('lapeÃ', 'ORGANIZATION'),\n",
       " ('lifeÂ Â', 'ORGANIZATION'),\n",
       " ('lightningÂ', 'ORGANIZATION'),\n",
       " ('logroÃ', 'ORGANIZATION'),\n",
       " ('loselbssaveÂ', 'ORGANIZATION'),\n",
       " ('magnÃ', 'ORGANIZATION'),\n",
       " ('mamadeniÃ', 'ORGANIZATION'),\n",
       " ('marschfÃ¼rjesus', 'ORGANIZATION'),\n",
       " ('mayoncÃ', 'ORGANIZATION'),\n",
       " ('mayÃ', 'ORGANIZATION'),\n",
       " ('mccafÃ', 'ORGANIZATION'),\n",
       " ('mesutÃ', 'ORGANIZATION'),\n",
       " ('metroÅ', 'ORGANIZATION'),\n",
       " ('miÅ', 'ORGANIZATION'),\n",
       " ('moanaÂ', 'ORGANIZATION'),\n",
       " ('montrÃ', 'ORGANIZATION'),\n",
       " ('naÃ', 'ORGANIZATION'),\n",
       " ('neuchÃ', 'ORGANIZATION'),\n",
       " ('newsÂ', 'ORGANIZATION'),\n",
       " ('neÃ³n', 'ORGANIZATION'),\n",
       " ('novitÃ', 'ORGANIZATION'),\n",
       " ('oilÂ', 'ORGANIZATION'),\n",
       " ('ontiatÃ', 'ORGANIZATION'),\n",
       " ('oÂ²breakthroughÂ', 'ORGANIZATION'),\n",
       " ('oÅ Ä', 'ORGANIZATION'),\n",
       " ('phÃ', 'ORGANIZATION'),\n",
       " ('pinÃ', 'ORGANIZATION'),\n",
       " ('pizzadÃ', 'ORGANIZATION'),\n",
       " ('plaÅ', 'ORGANIZATION'),\n",
       " ('pokÃ', 'ORGANIZATION'),\n",
       " ('poussiÂ Â', 'ORGANIZATION'),\n",
       " ('poÃ', 'ORGANIZATION'),\n",
       " ('quÃ', 'ORGANIZATION'),\n",
       " ('rainingÂ', 'ORGANIZATION'),\n",
       " ('rainÂ', 'ORGANIZATION'),\n",
       " ('rosÃ', 'ORGANIZATION'),\n",
       " ('rÃ²om', 'ORGANIZATION'),\n",
       " ('sabÃ', 'ORGANIZATION'),\n",
       " ('schÃ', 'ORGANIZATION'),\n",
       " ('skellefteÃ', 'ORGANIZATION'),\n",
       " ('soufflÃ', 'ORGANIZATION'),\n",
       " ('stormÂ', 'ORGANIZATION'),\n",
       " ('sueÃ', 'ORGANIZATION'),\n",
       " ('sunflowerÂ', 'ORGANIZATION'),\n",
       " ('szczÄ Å', 'ORGANIZATION'),\n",
       " ('sÃ³ria', 'ORGANIZATION'),\n",
       " ('tejiendosueÃ', 'ORGANIZATION'),\n",
       " ('thatÂ', 'ORGANIZATION'),\n",
       " ('todayÂ', 'ORGANIZATION'),\n",
       " ('todayÃ', 'ORGANIZATION'),\n",
       " ('townÂ²', 'ORGANIZATION'),\n",
       " ('travelÂ', 'ORGANIZATION'),\n",
       " ('turÂ', 'ORGANIZATION'),\n",
       " ('twÃ¼tters', 'ORGANIZATION'),\n",
       " ('tÃ¼sh', 'ORGANIZATION'),\n",
       " ('viÃ', 'ORGANIZATION'),\n",
       " ('vysoÄ', 'ORGANIZATION'),\n",
       " ('weatherÂ', 'ORGANIZATION'),\n",
       " ('whatÂ', 'ORGANIZATION'),\n",
       " ('whiteaddictÂ', 'ORGANIZATION'),\n",
       " ('wilÃ', 'ORGANIZATION'),\n",
       " ('wiÄ', 'ORGANIZATION'),\n",
       " ('wunderschÃ', 'ORGANIZATION'),\n",
       " ('zlÃ¼Ä', 'ORGANIZATION'),\n",
       " ('zÃ¼rich', 'ORGANIZATION'),\n",
       " ('Â', 'PERSON'),\n",
       " ('Â Â', 'PERSON'),\n",
       " ('ÂµÂ Â²Â', 'ORGANIZATION'),\n",
       " ('Ã Â', 'PERSON'),\n",
       " ('Ã¼molmadanasla', 'ORGANIZATION'),\n",
       " ('Ð Ð', 'PERSON'),\n",
       " ('Ð²Ð¾Ñ Ð¾Ð½ÐµÐ', 'PERSON'),\n",
       " ('ÐµÐ¼ÐºÐ', 'ORGANIZATION'),\n",
       " ('ÐºÐ¾Ð½Ñ', 'ORGANIZATION'),\n",
       " ('Ð¼Ð Ð¹Ñ', 'PERSON'),\n",
       " ('Ñ Ð¾Ñ', 'PERSON'),\n",
       " ('Ø³Ù Ù', 'PERSON')}"
      ]
     },
     "execution_count": 11,
     "metadata": {},
     "output_type": "execute_result"
    }
   ],
   "source": [
    "ner"
   ]
  },
  {
   "cell_type": "markdown",
   "metadata": {},
   "source": [
    "#### Задание 3. \n",
    "\n",
    "Какая из библиотек по вашему лучше отработала? Сравните качество полученных most_common NER и количество распознаных NER. \n",
    "\n",
    " "
   ]
  },
  {
   "cell_type": "code",
   "execution_count": null,
   "metadata": {},
   "outputs": [],
   "source": []
  }
 ],
 "metadata": {
  "kernelspec": {
   "display_name": "Python 3",
   "language": "python",
   "name": "python3"
  },
  "language_info": {
   "codemirror_mode": {
    "name": "ipython",
    "version": 3
   },
   "file_extension": ".py",
   "mimetype": "text/x-python",
   "name": "python",
   "nbconvert_exporter": "python",
   "pygments_lexer": "ipython3",
   "version": "3.7.6"
  }
 },
 "nbformat": 4,
 "nbformat_minor": 4
}
