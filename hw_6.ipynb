{
 "cells": [
  {
   "cell_type": "markdown",
   "metadata": {},
   "source": [
    "### Провести сравнение RNN, LSTM, GRU на датасете отзывов (из предыдущих занятий/материалов)"
   ]
  },
  {
   "cell_type": "code",
   "execution_count": 1,
   "metadata": {},
   "outputs": [
    {
     "name": "stdout",
     "output_type": "stream",
     "text": [
      "2.2.0\n"
     ]
    }
   ],
   "source": [
    "import pandas as pd\n",
    "import numpy as np\n",
    "import matplotlib.pyplot as plt\n",
    "\n",
    "from string import punctuation\n",
    "from stop_words import get_stop_words\n",
    "from pymorphy2 import MorphAnalyzer\n",
    "import re\n",
    "from sklearn.model_selection import train_test_split\n",
    "from collections import defaultdict\n",
    "\n",
    "import tensorflow as tf\n",
    "print(tf.__version__)"
   ]
  },
  {
   "cell_type": "code",
   "execution_count": 2,
   "metadata": {},
   "outputs": [],
   "source": [
    "from tensorflow.keras.preprocessing.text import Tokenizer\n",
    "from tensorflow.keras.preprocessing.sequence import pad_sequences\n",
    "from tensorflow import keras"
   ]
  },
  {
   "cell_type": "code",
   "execution_count": 3,
   "metadata": {},
   "outputs": [
    {
     "data": {
      "text/plain": [
       "['/device:GPU:0']"
      ]
     },
     "execution_count": 3,
     "metadata": {},
     "output_type": "execute_result"
    }
   ],
   "source": [
    "from tensorflow.python.client import device_lib\n",
    "\n",
    "def get_available_gpus():\n",
    "    local_device_protos = device_lib.list_local_devices()\n",
    "    return [x.name for x in local_device_protos if x.device_type == 'GPU']\n",
    "\n",
    "get_available_gpus()"
   ]
  },
  {
   "cell_type": "code",
   "execution_count": 4,
   "metadata": {},
   "outputs": [],
   "source": [
    "data = pd.read_excel(\"отзывы за лето.xls\")\n",
    "\n",
    "stop_words = set(get_stop_words(\"ru\"))\n",
    "exclude = set(punctuation)\n",
    "morpher = MorphAnalyzer()\n",
    "\n",
    "\n",
    "def preprocess_text(txt):\n",
    "    txt = str(txt)\n",
    "    txt = txt.lower()\n",
    "    txt = re.sub('https?://\\S+|www\\.\\S+', ' ', txt)\n",
    "    txt = re.sub(r'\\)+', ' веселый', txt)\n",
    "    txt = re.sub(r'\\(+', ' грустный', txt)\n",
    "    txt = re.sub(r'[^\\w\\s]',' ', txt)\n",
    "    txt = re.sub(r'[0-9]+', ' ', txt)\n",
    "    txt = re.sub('\\n', ' ', txt)\n",
    "    txt = [morpher.parse(word)[0].normal_form for word in txt.split() if word not in stop_words]\n",
    "    txt = \" \".join(txt)\n",
    "    txt = re.sub(\"не\\s\", \"не\", txt)\n",
    "    return txt\n",
    "\n",
    "\n",
    "data['text'] = data['Content'].apply(preprocess_text)\n",
    "data = data[data['Rating'] != 3]\n",
    "data['target'] = data['Rating'] > 3\n",
    "data['target'] = data['target'].astype(int)\n",
    "\n",
    "X_train, X_val, y_train, y_val = train_test_split(data['text'], data['target'], test_size=0.2,\n",
    "                                                    random_state=42, stratify=data['target'])"
   ]
  },
  {
   "cell_type": "code",
   "execution_count": 5,
   "metadata": {},
   "outputs": [],
   "source": [
    "tokenizer = Tokenizer(oov_token=\"<OOV>\")\n",
    "tokenizer.fit_on_texts(X_train)  \n",
    "word_index = tokenizer.word_index\n",
    "\n",
    "X_train = tokenizer.texts_to_sequences(X_train)\n",
    "X_train = pad_sequences(X_train)\n",
    "X_val = tokenizer.texts_to_sequences(X_val)\n",
    "X_val = pad_sequences(X_val)"
   ]
  },
  {
   "cell_type": "code",
   "execution_count": 6,
   "metadata": {},
   "outputs": [],
   "source": [
    "BUFFER_SIZE = X_train.shape[0]\n",
    "BATCH_SIZE = 128\n",
    "\n",
    "train_dataset = tf.data.Dataset.from_tensor_slices((X_train, y_train))\n",
    "train_dataset = train_dataset.shuffle(BUFFER_SIZE)\n",
    "train_dataset = train_dataset.padded_batch(BATCH_SIZE)\n",
    "val_dataset = tf.data.Dataset.from_tensor_slices((X_val, y_val))\n",
    "val_dataset = val_dataset.padded_batch(BATCH_SIZE)"
   ]
  },
  {
   "cell_type": "code",
   "execution_count": 7,
   "metadata": {},
   "outputs": [],
   "source": [
    "VOCAB_SIZE = len(word_index)+1\n",
    "EMBEDDING_DIM = 128\n",
    "WEIGHT_DECAY = 0.01\n",
    "wd = tf.keras.regularizers.l2(WEIGHT_DECAY)"
   ]
  },
  {
   "cell_type": "markdown",
   "metadata": {},
   "source": [
    "### RNN"
   ]
  },
  {
   "cell_type": "code",
   "execution_count": 8,
   "metadata": {},
   "outputs": [
    {
     "name": "stdout",
     "output_type": "stream",
     "text": [
      "Model: \"sequential\"\n",
      "_________________________________________________________________\n",
      "Layer (type)                 Output Shape              Param #   \n",
      "=================================================================\n",
      "embedding (Embedding)        (None, None, 128)         905984    \n",
      "_________________________________________________________________\n",
      "dropout (Dropout)            (None, None, 128)         0         \n",
      "_________________________________________________________________\n",
      "simple_rnn (SimpleRNN)       (None, None, 64)          12352     \n",
      "_________________________________________________________________\n",
      "simple_rnn_1 (SimpleRNN)     (None, 32)                3104      \n",
      "_________________________________________________________________\n",
      "dense (Dense)                (None, 32)                1056      \n",
      "_________________________________________________________________\n",
      "dropout_1 (Dropout)          (None, 32)                0         \n",
      "_________________________________________________________________\n",
      "dense_1 (Dense)              (None, 1)                 33        \n",
      "=================================================================\n",
      "Total params: 922,529\n",
      "Trainable params: 922,529\n",
      "Non-trainable params: 0\n",
      "_________________________________________________________________\n"
     ]
    }
   ],
   "source": [
    "model = tf.keras.Sequential([\n",
    "    tf.keras.layers.Embedding(VOCAB_SIZE, EMBEDDING_DIM),\n",
    "    tf.keras.layers.Dropout(0.2),\n",
    "    tf.keras.layers.SimpleRNN(64, return_sequences=True, kernel_regularizer=wd),\n",
    "    tf.keras.layers.SimpleRNN(32, kernel_regularizer=wd),\n",
    "    tf.keras.layers.Dense(32, activation='relu', kernel_regularizer=wd),\n",
    "    tf.keras.layers.Dropout(0.5),\n",
    "    tf.keras.layers.Dense(1, activation='sigmoid')\n",
    "])\n",
    "model.summary()"
   ]
  },
  {
   "cell_type": "code",
   "execution_count": 9,
   "metadata": {},
   "outputs": [
    {
     "name": "stdout",
     "output_type": "stream",
     "text": [
      "Epoch 1/10\n",
      "124/124 [==============================] - 18s 146ms/step - loss: 1.9289 - auc: 0.6653 - val_loss: 1.7429 - val_auc: 0.8615\n",
      "Epoch 2/10\n",
      "124/124 [==============================] - 18s 145ms/step - loss: 1.6618 - auc: 0.7921 - val_loss: 1.5281 - val_auc: 0.8811\n",
      "Epoch 3/10\n",
      "124/124 [==============================] - 18s 144ms/step - loss: 1.4599 - auc: 0.8315 - val_loss: 1.3484 - val_auc: 0.8969\n",
      "Epoch 4/10\n",
      "124/124 [==============================] - 18s 145ms/step - loss: 1.2806 - auc: 0.8661 - val_loss: 1.2007 - val_auc: 0.9120\n",
      "Epoch 5/10\n",
      "124/124 [==============================] - 19s 150ms/step - loss: 1.1282 - auc: 0.8930 - val_loss: 1.0533 - val_auc: 0.9319\n",
      "Epoch 6/10\n",
      "124/124 [==============================] - 18s 147ms/step - loss: 0.9951 - auc: 0.9152 - val_loss: 0.9397 - val_auc: 0.9395\n",
      "Epoch 7/10\n",
      "124/124 [==============================] - 18s 148ms/step - loss: 0.8886 - auc: 0.9256 - val_loss: 0.8519 - val_auc: 0.9422\n",
      "Epoch 8/10\n",
      "124/124 [==============================] - 18s 147ms/step - loss: 0.7982 - auc: 0.9339 - val_loss: 0.7724 - val_auc: 0.9466\n",
      "Epoch 9/10\n",
      "124/124 [==============================] - 18s 146ms/step - loss: 0.7192 - auc: 0.9450 - val_loss: 0.7145 - val_auc: 0.9432\n",
      "Epoch 10/10\n",
      "124/124 [==============================] - 18s 146ms/step - loss: 0.6530 - auc: 0.9482 - val_loss: 0.6554 - val_auc: 0.9442\n",
      "Wall time: 3min 4s\n"
     ]
    }
   ],
   "source": [
    "%%time\n",
    "num_epochs = 10\n",
    "model.compile(optimizer=tf.keras.optimizers.Adam(1e-4),\n",
    "              loss=tf.keras.losses.BinaryCrossentropy(),\n",
    "              metrics=[tf.keras.metrics.AUC()])\n",
    "\n",
    "\n",
    "history = model.fit(\n",
    "    train_dataset, \n",
    "    epochs=num_epochs, \n",
    "    validation_data=val_dataset)"
   ]
  },
  {
   "cell_type": "code",
   "execution_count": 10,
   "metadata": {},
   "outputs": [
    {
     "data": {
      "image/png": "[encoded data removed]",
      "text/plain": [
       "<Figure size 432x288 with 1 Axes>"
      ]
     },
     "metadata": {
      "needs_background": "light"
     },
     "output_type": "display_data"
    },
    {
     "data": {
      "image/png": "[encoded data removed]",
      "text/plain": [
       "<Figure size 432x288 with 1 Axes>"
      ]
     },
     "metadata": {
      "needs_background": "light"
     },
     "output_type": "display_data"
    }
   ],
   "source": [
    "def plot_graphs(history, string):\n",
    "    plt.plot(history.history[string])\n",
    "    plt.plot(history.history['val_'+string])\n",
    "    plt.xlabel(\"Epochs\")\n",
    "    plt.ylabel(string)\n",
    "    plt.legend([string, 'val_'+string])\n",
    "    plt.show()\n",
    "    \n",
    "    \n",
    "plot_graphs(history, \"auc\")  \n",
    "plot_graphs(history, \"loss\")"
   ]
  },
  {
   "cell_type": "code",
   "execution_count": 11,
   "metadata": {},
   "outputs": [
    {
     "name": "stdout",
     "output_type": "stream",
     "text": [
      "31/31 [==============================] - 0s 16ms/step - loss: 0.6554 - auc: 0.9442\n"
     ]
    }
   ],
   "source": [
    "scores_RNN = model.evaluate(val_dataset)"
   ]
  },
  {
   "cell_type": "markdown",
   "metadata": {},
   "source": [
    "### LSTM"
   ]
  },
  {
   "cell_type": "code",
   "execution_count": 12,
   "metadata": {},
   "outputs": [
    {
     "name": "stdout",
     "output_type": "stream",
     "text": [
      "Model: \"sequential_1\"\n",
      "_________________________________________________________________\n",
      "Layer (type)                 Output Shape              Param #   \n",
      "=================================================================\n",
      "embedding_1 (Embedding)      (None, None, 128)         905984    \n",
      "_________________________________________________________________\n",
      "dropout_2 (Dropout)          (None, None, 128)         0         \n",
      "_________________________________________________________________\n",
      "bidirectional (Bidirectional (None, None, 128)         98816     \n",
      "_________________________________________________________________\n",
      "bidirectional_1 (Bidirection (None, 64)                41216     \n",
      "_________________________________________________________________\n",
      "dense_2 (Dense)              (None, 32)                2080      \n",
      "_________________________________________________________________\n",
      "dropout_3 (Dropout)          (None, 32)                0         \n",
      "_________________________________________________________________\n",
      "dense_3 (Dense)              (None, 1)                 33        \n",
      "=================================================================\n",
      "Total params: 1,048,129\n",
      "Trainable params: 1,048,129\n",
      "Non-trainable params: 0\n",
      "_________________________________________________________________\n"
     ]
    }
   ],
   "source": [
    "model = tf.keras.Sequential([\n",
    "    tf.keras.layers.Embedding(VOCAB_SIZE, EMBEDDING_DIM),\n",
    "    tf.keras.layers.Dropout(0.2),\n",
    "    tf.keras.layers.Bidirectional(tf.keras.layers.LSTM(64,  return_sequences=True, kernel_regularizer=wd)),\n",
    "    tf.keras.layers.Bidirectional(tf.keras.layers.LSTM(32, kernel_regularizer=wd)),\n",
    "    tf.keras.layers.Dense(32, activation='relu', kernel_regularizer=wd),\n",
    "    tf.keras.layers.Dropout(0.5),\n",
    "    tf.keras.layers.Dense(1, activation='sigmoid')\n",
    "])\n",
    "model.summary()"
   ]
  },
  {
   "cell_type": "code",
   "execution_count": 13,
   "metadata": {},
   "outputs": [
    {
     "name": "stdout",
     "output_type": "stream",
     "text": [
      "Epoch 1/10\n",
      "124/124 [==============================] - 6s 46ms/step - loss: 6.1928 - auc_1: 0.5306 - val_loss: 5.3438 - val_auc_1: 0.8695\n",
      "Epoch 2/10\n",
      "124/124 [==============================] - 5s 37ms/step - loss: 4.7470 - auc_1: 0.6865 - val_loss: 4.1382 - val_auc_1: 0.8841\n",
      "Epoch 3/10\n",
      "124/124 [==============================] - 5s 37ms/step - loss: 3.6619 - auc_1: 0.8232 - val_loss: 3.1663 - val_auc_1: 0.9214\n",
      "Epoch 4/10\n",
      "124/124 [==============================] - 5s 37ms/step - loss: 2.7935 - auc_1: 0.9208 - val_loss: 2.4443 - val_auc_1: 0.9467\n",
      "Epoch 5/10\n",
      "124/124 [==============================] - 5s 38ms/step - loss: 2.1641 - auc_1: 0.9506 - val_loss: 1.9279 - val_auc_1: 0.9459\n",
      "Epoch 6/10\n",
      "124/124 [==============================] - 5s 38ms/step - loss: 1.7009 - auc_1: 0.9525 - val_loss: 1.5388 - val_auc_1: 0.9437\n",
      "Epoch 7/10\n",
      "124/124 [==============================] - 5s 38ms/step - loss: 1.3751 - auc_1: 0.9452 - val_loss: 1.2461 - val_auc_1: 0.9482\n",
      "Epoch 8/10\n",
      "124/124 [==============================] - 5s 38ms/step - loss: 1.1129 - auc_1: 0.9518 - val_loss: 1.0325 - val_auc_1: 0.9433\n",
      "Epoch 9/10\n",
      "124/124 [==============================] - 5s 38ms/step - loss: 0.9238 - auc_1: 0.9513 - val_loss: 0.8669 - val_auc_1: 0.9459\n",
      "Epoch 10/10\n",
      "124/124 [==============================] - 5s 38ms/step - loss: 0.7676 - auc_1: 0.9571 - val_loss: 0.7366 - val_auc_1: 0.9459\n",
      "Wall time: 53.1 s\n"
     ]
    }
   ],
   "source": [
    "%%time\n",
    "num_epochs = 10\n",
    "model.compile(optimizer=tf.keras.optimizers.Adam(1e-4),\n",
    "              loss=tf.keras.losses.BinaryCrossentropy(),\n",
    "              metrics=[tf.keras.metrics.AUC()])\n",
    "\n",
    "\n",
    "history = model.fit(\n",
    "    train_dataset, \n",
    "    epochs=num_epochs, \n",
    "    validation_data=val_dataset)"
   ]
  },
  {
   "cell_type": "code",
   "execution_count": 14,
   "metadata": {},
   "outputs": [
    {
     "data": {
      "image/png": "[encoded data removed]",
      "text/plain": [
       "<Figure size 432x288 with 1 Axes>"
      ]
     },
     "metadata": {
      "needs_background": "light"
     },
     "output_type": "display_data"
    },
    {
     "data": {
      "image/png": "[encoded data removed]",
      "text/plain": [
       "<Figure size 432x288 with 1 Axes>"
      ]
     },
     "metadata": {
      "needs_background": "light"
     },
     "output_type": "display_data"
    }
   ],
   "source": [
    "def plot_graphs(history, string):\n",
    "    plt.plot(history.history[string])\n",
    "    plt.plot(history.history['val_'+string])\n",
    "    plt.xlabel(\"Epochs\")\n",
    "    plt.ylabel(string)\n",
    "    plt.legend([string, 'val_'+string])\n",
    "    plt.show()\n",
    "    \n",
    "    \n",
    "plot_graphs(history, \"auc_1\")  \n",
    "plot_graphs(history, \"loss\")"
   ]
  },
  {
   "cell_type": "code",
   "execution_count": 15,
   "metadata": {},
   "outputs": [
    {
     "name": "stdout",
     "output_type": "stream",
     "text": [
      "31/31 [==============================] - 0s 14ms/step - loss: 0.7366 - auc_1: 0.9459\n"
     ]
    }
   ],
   "source": [
    "scores_LSTM = model.evaluate(val_dataset)"
   ]
  },
  {
   "cell_type": "markdown",
   "metadata": {},
   "source": [
    "### GRU"
   ]
  },
  {
   "cell_type": "code",
   "execution_count": 16,
   "metadata": {},
   "outputs": [
    {
     "name": "stdout",
     "output_type": "stream",
     "text": [
      "Model: \"sequential_2\"\n",
      "_________________________________________________________________\n",
      "Layer (type)                 Output Shape              Param #   \n",
      "=================================================================\n",
      "embedding_2 (Embedding)      (None, None, 128)         905984    \n",
      "_________________________________________________________________\n",
      "dropout_4 (Dropout)          (None, None, 128)         0         \n",
      "_________________________________________________________________\n",
      "gru (GRU)                    (None, None, 64)          37248     \n",
      "_________________________________________________________________\n",
      "gru_1 (GRU)                  (None, 32)                9408      \n",
      "_________________________________________________________________\n",
      "dense_4 (Dense)              (None, 32)                1056      \n",
      "_________________________________________________________________\n",
      "dropout_5 (Dropout)          (None, 32)                0         \n",
      "_________________________________________________________________\n",
      "dense_5 (Dense)              (None, 1)                 33        \n",
      "=================================================================\n",
      "Total params: 953,729\n",
      "Trainable params: 953,729\n",
      "Non-trainable params: 0\n",
      "_________________________________________________________________\n"
     ]
    }
   ],
   "source": [
    "model = tf.keras.Sequential([\n",
    "    tf.keras.layers.Embedding(VOCAB_SIZE, EMBEDDING_DIM),\n",
    "    tf.keras.layers.Dropout(0.2),\n",
    "    tf.keras.layers.GRU(64, return_sequences=True, kernel_regularizer=wd),\n",
    "    tf.keras.layers.GRU(32, kernel_regularizer=wd),\n",
    "    tf.keras.layers.Dense(32, activation='relu', kernel_regularizer=wd),\n",
    "    tf.keras.layers.Dropout(0.5),\n",
    "    tf.keras.layers.Dense(1, activation='sigmoid')\n",
    "])\n",
    "model.summary()"
   ]
  },
  {
   "cell_type": "code",
   "execution_count": 17,
   "metadata": {},
   "outputs": [
    {
     "name": "stdout",
     "output_type": "stream",
     "text": [
      "Epoch 1/10\n",
      "124/124 [==============================] - 3s 28ms/step - loss: 2.9678 - auc_2: 0.5575 - val_loss: 2.5718 - val_auc_2: 0.8757\n",
      "Epoch 2/10\n",
      "124/124 [==============================] - 3s 24ms/step - loss: 2.2742 - auc_2: 0.7208 - val_loss: 2.0178 - val_auc_2: 0.8762\n",
      "Epoch 3/10\n",
      "124/124 [==============================] - 3s 24ms/step - loss: 1.8491 - auc_2: 0.8081 - val_loss: 1.6490 - val_auc_2: 0.8913\n",
      "Epoch 4/10\n",
      "124/124 [==============================] - 3s 24ms/step - loss: 1.5169 - auc_2: 0.8489 - val_loss: 1.3609 - val_auc_2: 0.9023\n",
      "Epoch 5/10\n",
      "124/124 [==============================] - 3s 24ms/step - loss: 1.2501 - auc_2: 0.8801 - val_loss: 1.1273 - val_auc_2: 0.9125\n",
      "Epoch 6/10\n",
      "124/124 [==============================] - 3s 24ms/step - loss: 1.0398 - auc_2: 0.8975 - val_loss: 0.9431 - val_auc_2: 0.9235\n",
      "Epoch 7/10\n",
      "124/124 [==============================] - 3s 24ms/step - loss: 0.8682 - auc_2: 0.9149 - val_loss: 0.7963 - val_auc_2: 0.9331\n",
      "Epoch 8/10\n",
      "124/124 [==============================] - 3s 25ms/step - loss: 0.7316 - auc_2: 0.9280 - val_loss: 0.6802 - val_auc_2: 0.9402\n",
      "Epoch 9/10\n",
      "124/124 [==============================] - 3s 24ms/step - loss: 0.6212 - auc_2: 0.9382 - val_loss: 0.5885 - val_auc_2: 0.9459\n",
      "Epoch 10/10\n",
      "124/124 [==============================] - 3s 24ms/step - loss: 0.5321 - auc_2: 0.9488 - val_loss: 0.5161 - val_auc_2: 0.9484\n",
      "Wall time: 32.9 s\n"
     ]
    }
   ],
   "source": [
    "%%time\n",
    "num_epochs = 10\n",
    "model.compile(optimizer=tf.keras.optimizers.Adam(1e-4),\n",
    "              loss=tf.keras.losses.BinaryCrossentropy(),\n",
    "              metrics=[tf.keras.metrics.AUC()])\n",
    "\n",
    "\n",
    "history = model.fit(\n",
    "    train_dataset, \n",
    "    epochs=num_epochs, \n",
    "    validation_data=val_dataset)"
   ]
  },
  {
   "cell_type": "code",
   "execution_count": 18,
   "metadata": {},
   "outputs": [
    {
     "data": {
      "image/png": "[encoded data removed]",
      "text/plain": [
       "<Figure size 432x288 with 1 Axes>"
      ]
     },
     "metadata": {
      "needs_background": "light"
     },
     "output_type": "display_data"
    },
    {
     "data": {
      "image/png": "[encoded data removed]",
      "text/plain": [
       "<Figure size 432x288 with 1 Axes>"
      ]
     },
     "metadata": {
      "needs_background": "light"
     },
     "output_type": "display_data"
    }
   ],
   "source": [
    "def plot_graphs(history, string):\n",
    "    plt.plot(history.history[string])\n",
    "    plt.plot(history.history['val_'+string])\n",
    "    plt.xlabel(\"Epochs\")\n",
    "    plt.ylabel(string)\n",
    "    plt.legend([string, 'val_'+string])\n",
    "    plt.show()\n",
    "    \n",
    "    \n",
    "plot_graphs(history, \"auc_2\")  \n",
    "plot_graphs(history, \"loss\")"
   ]
  },
  {
   "cell_type": "code",
   "execution_count": 19,
   "metadata": {},
   "outputs": [
    {
     "name": "stdout",
     "output_type": "stream",
     "text": [
      "31/31 [==============================] - 0s 9ms/step - loss: 0.5161 - auc_2: 0.9484\n"
     ]
    }
   ],
   "source": [
    "scores_GRU = model.evaluate(val_dataset)"
   ]
  },
  {
   "cell_type": "markdown",
   "metadata": {},
   "source": [
    "Для сравнения результатов работы трех сетей использовались одинаковые классификаторы. Также одинаковое количество рекуррентных слоев и одинаковое количество ячеек в слоях."
   ]
  },
  {
   "cell_type": "code",
   "execution_count": 20,
   "metadata": {},
   "outputs": [
    {
     "data": {
      "text/plain": [
       "[0.6553688645362854, 0.9442093968391418]"
      ]
     },
     "execution_count": 20,
     "metadata": {},
     "output_type": "execute_result"
    }
   ],
   "source": [
    "scores_RNN"
   ]
  },
  {
   "cell_type": "code",
   "execution_count": 21,
   "metadata": {},
   "outputs": [
    {
     "data": {
      "text/plain": [
       "[0.7366243004798889, 0.9458913803100586]"
      ]
     },
     "execution_count": 21,
     "metadata": {},
     "output_type": "execute_result"
    }
   ],
   "source": [
    "scores_LSTM"
   ]
  },
  {
   "cell_type": "code",
   "execution_count": 22,
   "metadata": {},
   "outputs": [
    {
     "data": {
      "text/plain": [
       "[0.5160790085792542, 0.9483761191368103]"
      ]
     },
     "execution_count": 22,
     "metadata": {},
     "output_type": "execute_result"
    }
   ],
   "source": [
    "scores_GRU"
   ]
  },
  {
   "cell_type": "code",
   "execution_count": null,
   "metadata": {},
   "outputs": [],
   "source": [
    "Все три сети быстро переобучились, лучшее качество показала сеть GRU."
   ]
  }
 ],
 "metadata": {
  "kernelspec": {
   "display_name": "Python 3",
   "language": "python",
   "name": "python3"
  },
  "language_info": {
   "codemirror_mode": {
    "name": "ipython",
    "version": 3
   },
   "file_extension": ".py",
   "mimetype": "text/x-python",
   "name": "python",
   "nbconvert_exporter": "python",
   "pygments_lexer": "ipython3",
   "version": "3.7.6"
  }
 },
 "nbformat": 4,
 "nbformat_minor": 4
}
