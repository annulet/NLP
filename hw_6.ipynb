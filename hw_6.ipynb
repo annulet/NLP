{
 "cells": [
  {
   "cell_type": "markdown",
   "metadata": {},
   "source": [
    "### Провести сравнение RNN, LSTM, GRU на датасете отзывов (из предыдущих занятий/материалов)"
   ]
  },
  {
   "cell_type": "code",
   "execution_count": 1,
   "metadata": {},
   "outputs": [
    {
     "name": "stdout",
     "output_type": "stream",
     "text": [
      "2.2.0\n"
     ]
    }
   ],
   "source": [
    "import pandas as pd\n",
    "import numpy as np\n",
    "import matplotlib.pyplot as plt\n",
    "\n",
    "from string import punctuation\n",
    "from stop_words import get_stop_words\n",
    "from pymorphy2 import MorphAnalyzer\n",
    "import re\n",
    "from sklearn.model_selection import train_test_split\n",
    "from collections import defaultdict\n",
    "\n",
    "import tensorflow as tf\n",
    "print(tf.__version__)"
   ]
  },
  {
   "cell_type": "code",
   "execution_count": 2,
   "metadata": {},
   "outputs": [],
   "source": [
    "from tensorflow.keras.preprocessing.text import Tokenizer\n",
    "from tensorflow.keras.preprocessing.sequence import pad_sequences\n",
    "from tensorflow.keras.callbacks import ModelCheckpoint\n",
    "from tensorflow import keras"
   ]
  },
  {
   "cell_type": "code",
   "execution_count": 3,
   "metadata": {},
   "outputs": [
    {
     "data": {
      "text/plain": [
       "['/device:GPU:0']"
      ]
     },
     "execution_count": 3,
     "metadata": {},
     "output_type": "execute_result"
    }
   ],
   "source": [
    "from tensorflow.python.client import device_lib\n",
    "\n",
    "def get_available_gpus():\n",
    "    local_device_protos = device_lib.list_local_devices()\n",
    "    return [x.name for x in local_device_protos if x.device_type == 'GPU']\n",
    "\n",
    "get_available_gpus()"
   ]
  },
  {
   "cell_type": "code",
   "execution_count": 4,
   "metadata": {},
   "outputs": [],
   "source": [
    "data = pd.read_excel(\"отзывы за лето.xls\")\n",
    "\n",
    "stop_words = set(get_stop_words(\"ru\"))\n",
    "exclude = set(punctuation)\n",
    "morpher = MorphAnalyzer()\n",
    "\n",
    "\n",
    "def preprocess_text(txt):\n",
    "    txt = str(txt)\n",
    "    txt = txt.lower()\n",
    "    txt = re.sub('https?://\\S+|www\\.\\S+', ' ', txt)\n",
    "    txt = re.sub(r'\\)+', ' веселый', txt)\n",
    "    txt = re.sub(r'\\(+', ' грустный', txt)\n",
    "    txt = re.sub(r'[^\\w\\s]',' ', txt)\n",
    "    txt = re.sub(r'[0-9]+', ' ', txt)\n",
    "    txt = re.sub('\\n', ' ', txt)\n",
    "    txt = [morpher.parse(word)[0].normal_form for word in txt.split() if word not in stop_words]\n",
    "    txt = \" \".join(txt)\n",
    "    txt = re.sub(\"не\\s\", \"не\", txt)\n",
    "    return txt\n",
    "\n",
    "\n",
    "data['text'] = data['Content'].apply(preprocess_text)\n",
    "data = data[data['Rating'] != 3]\n",
    "data['target'] = data['Rating'] > 3\n",
    "data['target'] = data['target'].astype(int)\n",
    "\n",
    "X_train, X_val, y_train, y_val = train_test_split(data['text'], data['target'], test_size=0.2,\n",
    "                                                    random_state=42, stratify=data['target'])"
   ]
  },
  {
   "cell_type": "code",
   "execution_count": 5,
   "metadata": {},
   "outputs": [],
   "source": [
    "NUM_WORDS = 3000\n",
    "MAX_DOC_LEN = 100\n",
    "\n",
    "tokenizer = Tokenizer(oov_token=\"<OOV>\", num_words=NUM_WORDS)\n",
    "tokenizer.fit_on_texts(X_train)  \n",
    "word_index = tokenizer.word_index\n",
    "\n",
    "X_train = tokenizer.texts_to_sequences(X_train)\n",
    "X_train = pad_sequences(X_train, maxlen=MAX_DOC_LEN)\n",
    "X_val = tokenizer.texts_to_sequences(X_val)\n",
    "X_val = pad_sequences(X_val, maxlen=MAX_DOC_LEN)"
   ]
  },
  {
   "cell_type": "code",
   "execution_count": 6,
   "metadata": {},
   "outputs": [],
   "source": [
    "BUFFER_SIZE = X_train.shape[0]\n",
    "BATCH_SIZE = 128\n",
    "\n",
    "train_dataset = tf.data.Dataset.from_tensor_slices((X_train, y_train))\n",
    "train_dataset = train_dataset.shuffle(BUFFER_SIZE)\n",
    "train_dataset = train_dataset.padded_batch(BATCH_SIZE)\n",
    "val_dataset = tf.data.Dataset.from_tensor_slices((X_val, y_val))\n",
    "val_dataset = val_dataset.padded_batch(BATCH_SIZE)"
   ]
  },
  {
   "cell_type": "code",
   "execution_count": 7,
   "metadata": {},
   "outputs": [],
   "source": [
    "VOCAB_SIZE = len(word_index)+1\n",
    "EMBEDDING_DIM = 128\n",
    "WEIGHT_DECAY = 0.01\n",
    "wd = tf.keras.regularizers.l2(WEIGHT_DECAY)"
   ]
  },
  {
   "cell_type": "markdown",
   "metadata": {},
   "source": [
    "### RNN"
   ]
  },
  {
   "cell_type": "code",
   "execution_count": 8,
   "metadata": {},
   "outputs": [
    {
     "name": "stdout",
     "output_type": "stream",
     "text": [
      "Model: \"sequential\"\n",
      "_________________________________________________________________\n",
      "Layer (type)                 Output Shape              Param #   \n",
      "=================================================================\n",
      "embedding (Embedding)        (None, None, 128)         905984    \n",
      "_________________________________________________________________\n",
      "dropout (Dropout)            (None, None, 128)         0         \n",
      "_________________________________________________________________\n",
      "simple_rnn (SimpleRNN)       (None, None, 64)          12352     \n",
      "_________________________________________________________________\n",
      "simple_rnn_1 (SimpleRNN)     (None, 32)                3104      \n",
      "_________________________________________________________________\n",
      "dense (Dense)                (None, 32)                1056      \n",
      "_________________________________________________________________\n",
      "dropout_1 (Dropout)          (None, 32)                0         \n",
      "_________________________________________________________________\n",
      "dense_1 (Dense)              (None, 1)                 33        \n",
      "=================================================================\n",
      "Total params: 922,529\n",
      "Trainable params: 922,529\n",
      "Non-trainable params: 0\n",
      "_________________________________________________________________\n"
     ]
    }
   ],
   "source": [
    "model = tf.keras.Sequential([\n",
    "    tf.keras.layers.Embedding(VOCAB_SIZE, EMBEDDING_DIM),\n",
    "    tf.keras.layers.Dropout(0.2),\n",
    "    tf.keras.layers.SimpleRNN(64, return_sequences=True, kernel_regularizer=wd),\n",
    "    tf.keras.layers.SimpleRNN(32, kernel_regularizer=wd),\n",
    "    tf.keras.layers.Dense(32, activation='relu', kernel_regularizer=wd),\n",
    "    tf.keras.layers.Dropout(0.5),\n",
    "    tf.keras.layers.Dense(1, activation='sigmoid')\n",
    "])\n",
    "model.summary()"
   ]
  },
  {
   "cell_type": "code",
   "execution_count": 9,
   "metadata": {},
   "outputs": [
    {
     "name": "stdout",
     "output_type": "stream",
     "text": [
      "Epoch 1/15\n",
      "124/124 [==============================] - ETA: 0s - loss: 1.9552 - auc: 0.7117\n",
      "Epoch 00001: val_loss improved from inf to 1.77913, saving model to best_model.h5\n",
      "124/124 [==============================] - 16s 131ms/step - loss: 1.9552 - auc: 0.7117 - val_loss: 1.7791 - val_auc: 0.8743\n",
      "Epoch 2/15\n",
      "124/124 [==============================] - ETA: 0s - loss: 1.7058 - auc: 0.8199\n",
      "Epoch 00002: val_loss improved from 1.77913 to 1.58816, saving model to best_model.h5\n",
      "124/124 [==============================] - 16s 127ms/step - loss: 1.7058 - auc: 0.8199 - val_loss: 1.5882 - val_auc: 0.8887\n",
      "Epoch 3/15\n",
      "124/124 [==============================] - ETA: 0s - loss: 1.5184 - auc: 0.8518\n",
      "Epoch 00003: val_loss improved from 1.58816 to 1.41740, saving model to best_model.h5\n",
      "124/124 [==============================] - 16s 126ms/step - loss: 1.5184 - auc: 0.8518 - val_loss: 1.4174 - val_auc: 0.8992\n",
      "Epoch 4/15\n",
      "124/124 [==============================] - ETA: 0s - loss: 1.3557 - auc: 0.8683\n",
      "Epoch 00004: val_loss improved from 1.41740 to 1.26300, saving model to best_model.h5\n",
      "124/124 [==============================] - 15s 124ms/step - loss: 1.3557 - auc: 0.8683 - val_loss: 1.2630 - val_auc: 0.9165\n",
      "Epoch 5/15\n",
      "124/124 [==============================] - ETA: 0s - loss: 1.2045 - auc: 0.8946\n",
      "Epoch 00005: val_loss improved from 1.26300 to 1.13042, saving model to best_model.h5\n",
      "124/124 [==============================] - 15s 124ms/step - loss: 1.2045 - auc: 0.8946 - val_loss: 1.1304 - val_auc: 0.9300\n",
      "Epoch 6/15\n",
      "124/124 [==============================] - ETA: 0s - loss: 1.0744 - auc: 0.9139\n",
      "Epoch 00006: val_loss improved from 1.13042 to 1.01654, saving model to best_model.h5\n",
      "124/124 [==============================] - 16s 125ms/step - loss: 1.0744 - auc: 0.9139 - val_loss: 1.0165 - val_auc: 0.9388\n",
      "Epoch 7/15\n",
      "124/124 [==============================] - ETA: 0s - loss: 0.9714 - auc: 0.9194\n",
      "Epoch 00007: val_loss improved from 1.01654 to 0.92648, saving model to best_model.h5\n",
      "124/124 [==============================] - 16s 125ms/step - loss: 0.9714 - auc: 0.9194 - val_loss: 0.9265 - val_auc: 0.9421\n",
      "Epoch 8/15\n",
      "124/124 [==============================] - ETA: 0s - loss: 0.8755 - auc: 0.9336\n",
      "Epoch 00008: val_loss improved from 0.92648 to 0.84825, saving model to best_model.h5\n",
      "124/124 [==============================] - 16s 128ms/step - loss: 0.8755 - auc: 0.9336 - val_loss: 0.8483 - val_auc: 0.9466\n",
      "Epoch 9/15\n",
      "124/124 [==============================] - ETA: 0s - loss: 0.7959 - auc: 0.9399\n",
      "Epoch 00009: val_loss improved from 0.84825 to 0.77330, saving model to best_model.h5\n",
      "124/124 [==============================] - 16s 126ms/step - loss: 0.7959 - auc: 0.9399 - val_loss: 0.7733 - val_auc: 0.9484\n",
      "Epoch 10/15\n",
      "124/124 [==============================] - ETA: 0s - loss: 0.7263 - auc: 0.9447\n",
      "Epoch 00010: val_loss improved from 0.77330 to 0.71609, saving model to best_model.h5\n",
      "124/124 [==============================] - 16s 126ms/step - loss: 0.7263 - auc: 0.9447 - val_loss: 0.7161 - val_auc: 0.9477\n",
      "Epoch 11/15\n",
      "124/124 [==============================] - ETA: 0s - loss: 0.6627 - auc: 0.9501\n",
      "Epoch 00011: val_loss improved from 0.71609 to 0.66416, saving model to best_model.h5\n",
      "124/124 [==============================] - 16s 128ms/step - loss: 0.6627 - auc: 0.9501 - val_loss: 0.6642 - val_auc: 0.9481\n",
      "Epoch 12/15\n",
      "124/124 [==============================] - ETA: 0s - loss: 0.6075 - auc: 0.9542\n",
      "Epoch 00012: val_loss improved from 0.66416 to 0.62241, saving model to best_model.h5\n",
      "124/124 [==============================] - 16s 128ms/step - loss: 0.6075 - auc: 0.9542 - val_loss: 0.6224 - val_auc: 0.9451\n",
      "Epoch 13/15\n",
      "124/124 [==============================] - ETA: 0s - loss: 0.5610 - auc: 0.9555\n",
      "Epoch 00013: val_loss improved from 0.62241 to 0.57910, saving model to best_model.h5\n",
      "124/124 [==============================] - 16s 127ms/step - loss: 0.5610 - auc: 0.9555 - val_loss: 0.5791 - val_auc: 0.9435\n",
      "Epoch 14/15\n",
      "124/124 [==============================] - ETA: 0s - loss: 0.5197 - auc: 0.9577\n",
      "Epoch 00014: val_loss improved from 0.57910 to 0.54149, saving model to best_model.h5\n",
      "124/124 [==============================] - 16s 128ms/step - loss: 0.5197 - auc: 0.9577 - val_loss: 0.5415 - val_auc: 0.9452\n",
      "Epoch 15/15\n",
      "124/124 [==============================] - ETA: 0s - loss: 0.4783 - auc: 0.9639\n",
      "Epoch 00015: val_loss improved from 0.54149 to 0.51673, saving model to best_model.h5\n",
      "124/124 [==============================] - 16s 130ms/step - loss: 0.4783 - auc: 0.9639 - val_loss: 0.5167 - val_auc: 0.9418\n",
      "Wall time: 4min\n"
     ]
    }
   ],
   "source": [
    "%%time\n",
    "num_epochs = 15\n",
    "model.compile(optimizer=tf.keras.optimizers.Adam(1e-4), \n",
    "              loss=tf.keras.losses.BinaryCrossentropy(), \n",
    "              metrics=[tf.keras.metrics.AUC()]\n",
    "             )\n",
    "\n",
    "model_save_path = 'best_model.h5'\n",
    "checkpoint_callback = ModelCheckpoint(model_save_path, \n",
    "                                      save_best_only=True,\n",
    "                                      verbose=1\n",
    "                                     )\n",
    "\n",
    "history = model.fit(\n",
    "    train_dataset, \n",
    "    epochs=num_epochs, \n",
    "    validation_data=val_dataset,\n",
    "    callbacks=[checkpoint_callback])"
   ]
  },
  {
   "cell_type": "code",
   "execution_count": 10,
   "metadata": {},
   "outputs": [
    {
     "data": {
      "image/png": "[encoded data removed]",
      "text/plain": [
       "<Figure size 432x288 with 1 Axes>"
      ]
     },
     "metadata": {
      "needs_background": "light"
     },
     "output_type": "display_data"
    },
    {
     "data": {
      "image/png": "[encoded data removed]",
      "text/plain": [
       "<Figure size 432x288 with 1 Axes>"
      ]
     },
     "metadata": {
      "needs_background": "light"
     },
     "output_type": "display_data"
    }
   ],
   "source": [
    "def plot_graphs(history, string):\n",
    "    plt.plot(history.history[string])\n",
    "    plt.plot(history.history['val_'+string])\n",
    "    plt.xlabel(\"Epochs\")\n",
    "    plt.ylabel(string)\n",
    "    plt.legend([string, 'val_'+string])\n",
    "    plt.show()\n",
    "    \n",
    "    \n",
    "plot_graphs(history, \"auc\")  \n",
    "plot_graphs(history, \"loss\")"
   ]
  },
  {
   "cell_type": "code",
   "execution_count": 11,
   "metadata": {},
   "outputs": [
    {
     "name": "stdout",
     "output_type": "stream",
     "text": [
      "31/31 [==============================] - 0s 13ms/step - loss: 0.5167 - auc: 0.9418\n"
     ]
    }
   ],
   "source": [
    "model.load_weights(model_save_path)\n",
    "scores_RNN = model.evaluate(val_dataset)"
   ]
  },
  {
   "cell_type": "markdown",
   "metadata": {},
   "source": [
    "### LSTM"
   ]
  },
  {
   "cell_type": "code",
   "execution_count": 12,
   "metadata": {},
   "outputs": [
    {
     "name": "stdout",
     "output_type": "stream",
     "text": [
      "Model: \"sequential_1\"\n",
      "_________________________________________________________________\n",
      "Layer (type)                 Output Shape              Param #   \n",
      "=================================================================\n",
      "embedding_1 (Embedding)      (None, None, 128)         905984    \n",
      "_________________________________________________________________\n",
      "dropout_2 (Dropout)          (None, None, 128)         0         \n",
      "_________________________________________________________________\n",
      "bidirectional (Bidirectional (None, None, 128)         98816     \n",
      "_________________________________________________________________\n",
      "bidirectional_1 (Bidirection (None, 64)                41216     \n",
      "_________________________________________________________________\n",
      "dense_2 (Dense)              (None, 32)                2080      \n",
      "_________________________________________________________________\n",
      "dropout_3 (Dropout)          (None, 32)                0         \n",
      "_________________________________________________________________\n",
      "dense_3 (Dense)              (None, 1)                 33        \n",
      "=================================================================\n",
      "Total params: 1,048,129\n",
      "Trainable params: 1,048,129\n",
      "Non-trainable params: 0\n",
      "_________________________________________________________________\n"
     ]
    }
   ],
   "source": [
    "model = tf.keras.Sequential([\n",
    "    tf.keras.layers.Embedding(VOCAB_SIZE, EMBEDDING_DIM),\n",
    "    tf.keras.layers.Dropout(0.2),\n",
    "    tf.keras.layers.Bidirectional(tf.keras.layers.LSTM(64,  return_sequences=True, kernel_regularizer=wd)),\n",
    "    tf.keras.layers.Bidirectional(tf.keras.layers.LSTM(32, kernel_regularizer=wd)),\n",
    "    tf.keras.layers.Dense(32, activation='relu', kernel_regularizer=wd),\n",
    "    tf.keras.layers.Dropout(0.5),\n",
    "    tf.keras.layers.Dense(1, activation='sigmoid')\n",
    "])\n",
    "model.summary()"
   ]
  },
  {
   "cell_type": "code",
   "execution_count": 13,
   "metadata": {},
   "outputs": [
    {
     "name": "stdout",
     "output_type": "stream",
     "text": [
      "Epoch 1/15\n",
      "123/124 [============================>.] - ETA: 0s - loss: 6.1904 - auc_1: 0.5359\n",
      "Epoch 00001: val_loss improved from inf to 5.33512, saving model to best_model.h5\n",
      "124/124 [==============================] - 6s 44ms/step - loss: 6.1874 - auc_1: 0.5363 - val_loss: 5.3351 - val_auc_1: 0.8605\n",
      "Epoch 2/15\n",
      "123/124 [============================>.] - ETA: 0s - loss: 4.7433 - auc_1: 0.6698\n",
      "Epoch 00002: val_loss improved from 5.33512 to 4.13859, saving model to best_model.h5\n",
      "124/124 [==============================] - 4s 36ms/step - loss: 4.7417 - auc_1: 0.6695 - val_loss: 4.1386 - val_auc_1: 0.8703\n",
      "Epoch 3/15\n",
      "123/124 [============================>.] - ETA: 0s - loss: 3.6831 - auc_1: 0.7681\n",
      "Epoch 00003: val_loss improved from 4.13859 to 3.20296, saving model to best_model.h5\n",
      "124/124 [==============================] - 5s 37ms/step - loss: 3.6815 - auc_1: 0.7683 - val_loss: 3.2030 - val_auc_1: 0.8837\n",
      "Epoch 4/15\n",
      "123/124 [============================>.] - ETA: 0s - loss: 2.8565 - auc_1: 0.8388\n",
      "Epoch 00004: val_loss improved from 3.20296 to 2.47449, saving model to best_model.h5\n",
      "124/124 [==============================] - 5s 37ms/step - loss: 2.8551 - auc_1: 0.8389 - val_loss: 2.4745 - val_auc_1: 0.9204\n",
      "Epoch 5/15\n",
      "123/124 [============================>.] - ETA: 0s - loss: 2.1806 - auc_1: 0.9180\n",
      "Epoch 00005: val_loss improved from 2.47449 to 2.00533, saving model to best_model.h5\n",
      "124/124 [==============================] - 5s 36ms/step - loss: 2.1798 - auc_1: 0.9179 - val_loss: 2.0053 - val_auc_1: 0.9407\n",
      "Epoch 6/15\n",
      "123/124 [============================>.] - ETA: 0s - loss: 1.7121 - auc_1: 0.9282- ETA: 1s - \n",
      "Epoch 00006: val_loss improved from 2.00533 to 1.52614, saving model to best_model.h5\n",
      "124/124 [==============================] - 5s 37ms/step - loss: 1.7121 - auc_1: 0.9276 - val_loss: 1.5261 - val_auc_1: 0.9447\n",
      "Epoch 7/15\n",
      "123/124 [============================>.] - ETA: 0s - loss: 1.3645 - auc_1: 0.9351\n",
      "Epoch 00007: val_loss improved from 1.52614 to 1.21267, saving model to best_model.h5\n",
      "124/124 [==============================] - 5s 38ms/step - loss: 1.3644 - auc_1: 0.9348 - val_loss: 1.2127 - val_auc_1: 0.9458\n",
      "Epoch 8/15\n",
      "123/124 [============================>.] - ETA: 0s - loss: 1.0871 - auc_1: 0.9468\n",
      "Epoch 00008: val_loss improved from 1.21267 to 0.98315, saving model to best_model.h5\n",
      "124/124 [==============================] - 5s 37ms/step - loss: 1.0866 - auc_1: 0.9469 - val_loss: 0.9831 - val_auc_1: 0.9492\n",
      "Epoch 9/15\n",
      "123/124 [============================>.] - ETA: 0s - loss: 0.8759 - auc_1: 0.9532\n",
      "Epoch 00009: val_loss improved from 0.98315 to 0.80982, saving model to best_model.h5\n",
      "124/124 [==============================] - 5s 37ms/step - loss: 0.8753 - auc_1: 0.9534 - val_loss: 0.8098 - val_auc_1: 0.9488\n",
      "Epoch 10/15\n",
      "123/124 [============================>.] - ETA: 0s - loss: 0.7150 - auc_1: 0.9573\n",
      "Epoch 00010: val_loss improved from 0.80982 to 0.68249, saving model to best_model.h5\n",
      "124/124 [==============================] - 6s 44ms/step - loss: 0.7150 - auc_1: 0.9572 - val_loss: 0.6825 - val_auc_1: 0.9458\n",
      "Epoch 11/15\n",
      "123/124 [============================>.] - ETA: 0s - loss: 0.5972 - auc_1: 0.9594- ETA: 0s - loss: 0.6041 - a\n",
      "Epoch 00011: val_loss improved from 0.68249 to 0.59981, saving model to best_model.h5\n",
      "124/124 [==============================] - 5s 36ms/step - loss: 0.5970 - auc_1: 0.9594 - val_loss: 0.5998 - val_auc_1: 0.9434\n",
      "Epoch 12/15\n",
      "123/124 [============================>.] - ETA: 0s - loss: 0.5143 - auc_1: 0.9590- ETA:\n",
      "Epoch 00012: val_loss improved from 0.59981 to 0.51467, saving model to best_model.h5\n",
      "124/124 [==============================] - 5s 37ms/step - loss: 0.5143 - auc_1: 0.9590 - val_loss: 0.5147 - val_auc_1: 0.9476\n",
      "Epoch 13/15\n",
      "123/124 [============================>.] - ETA: 0s - loss: 0.4406 - auc_1: 0.9634\n",
      "Epoch 00013: val_loss improved from 0.51467 to 0.46146, saving model to best_model.h5\n",
      "124/124 [==============================] - 6s 46ms/step - loss: 0.4405 - auc_1: 0.9634 - val_loss: 0.4615 - val_auc_1: 0.9458\n",
      "Epoch 14/15\n",
      "123/124 [============================>.] - ETA: 0s - loss: 0.3905 - auc_1: 0.9637\n",
      "Epoch 00014: val_loss improved from 0.46146 to 0.42616, saving model to best_model.h5\n",
      "124/124 [==============================] - 5s 37ms/step - loss: 0.3904 - auc_1: 0.9637 - val_loss: 0.4262 - val_auc_1: 0.9425\n",
      "Epoch 15/15\n",
      "123/124 [============================>.] - ETA: 0s - loss: 0.3514 - auc_1: 0.9631\n",
      "Epoch 00015: val_loss improved from 0.42616 to 0.39915, saving model to best_model.h5\n",
      "124/124 [==============================] - 5s 36ms/step - loss: 0.3511 - auc_1: 0.9633 - val_loss: 0.3991 - val_auc_1: 0.9396\n",
      "Wall time: 1min 17s\n"
     ]
    }
   ],
   "source": [
    "%%time\n",
    "num_epochs = 15\n",
    "model.compile(optimizer=tf.keras.optimizers.Adam(1e-4), \n",
    "              loss=tf.keras.losses.BinaryCrossentropy(), \n",
    "              metrics=[tf.keras.metrics.AUC()]\n",
    "             )\n",
    "\n",
    "model_save_path = 'best_model.h5'\n",
    "checkpoint_callback = ModelCheckpoint(model_save_path, \n",
    "                                      save_best_only=True,\n",
    "                                      verbose=1\n",
    "                                     )\n",
    "\n",
    "history = model.fit(\n",
    "    train_dataset, \n",
    "    epochs=num_epochs, \n",
    "    validation_data=val_dataset,\n",
    "    callbacks=[checkpoint_callback])"
   ]
  },
  {
   "cell_type": "code",
   "execution_count": 14,
   "metadata": {},
   "outputs": [
    {
     "data": {
      "image/png": "[encoded data removed]",
      "text/plain": [
       "<Figure size 432x288 with 1 Axes>"
      ]
     },
     "metadata": {
      "needs_background": "light"
     },
     "output_type": "display_data"
    },
    {
     "data": {
      "image/png": "[encoded data removed]",
      "text/plain": [
       "<Figure size 432x288 with 1 Axes>"
      ]
     },
     "metadata": {
      "needs_background": "light"
     },
     "output_type": "display_data"
    }
   ],
   "source": [
    "def plot_graphs(history, string):\n",
    "    plt.plot(history.history[string])\n",
    "    plt.plot(history.history['val_'+string])\n",
    "    plt.xlabel(\"Epochs\")\n",
    "    plt.ylabel(string)\n",
    "    plt.legend([string, 'val_'+string])\n",
    "    plt.show()\n",
    "    \n",
    "    \n",
    "plot_graphs(history, \"auc_1\")  \n",
    "plot_graphs(history, \"loss\")"
   ]
  },
  {
   "cell_type": "code",
   "execution_count": 15,
   "metadata": {},
   "outputs": [
    {
     "name": "stdout",
     "output_type": "stream",
     "text": [
      "31/31 [==============================] - 0s 12ms/step - loss: 0.3991 - auc_1: 0.9396\n"
     ]
    }
   ],
   "source": [
    "model.load_weights(model_save_path)\n",
    "scores_LSTM = model.evaluate(val_dataset)"
   ]
  },
  {
   "cell_type": "markdown",
   "metadata": {},
   "source": [
    "### GRU"
   ]
  },
  {
   "cell_type": "code",
   "execution_count": 16,
   "metadata": {},
   "outputs": [
    {
     "name": "stdout",
     "output_type": "stream",
     "text": [
      "Model: \"sequential_2\"\n",
      "_________________________________________________________________\n",
      "Layer (type)                 Output Shape              Param #   \n",
      "=================================================================\n",
      "embedding_2 (Embedding)      (None, None, 128)         905984    \n",
      "_________________________________________________________________\n",
      "dropout_4 (Dropout)          (None, None, 128)         0         \n",
      "_________________________________________________________________\n",
      "gru (GRU)                    (None, None, 64)          37248     \n",
      "_________________________________________________________________\n",
      "gru_1 (GRU)                  (None, 32)                9408      \n",
      "_________________________________________________________________\n",
      "dense_4 (Dense)              (None, 32)                1056      \n",
      "_________________________________________________________________\n",
      "dropout_5 (Dropout)          (None, 32)                0         \n",
      "_________________________________________________________________\n",
      "dense_5 (Dense)              (None, 1)                 33        \n",
      "=================================================================\n",
      "Total params: 953,729\n",
      "Trainable params: 953,729\n",
      "Non-trainable params: 0\n",
      "_________________________________________________________________\n"
     ]
    }
   ],
   "source": [
    "model = tf.keras.Sequential([\n",
    "    tf.keras.layers.Embedding(VOCAB_SIZE, EMBEDDING_DIM),\n",
    "    tf.keras.layers.Dropout(0.2),\n",
    "    tf.keras.layers.GRU(64, return_sequences=True, kernel_regularizer=wd),\n",
    "    tf.keras.layers.GRU(32, kernel_regularizer=wd),\n",
    "    tf.keras.layers.Dense(32, activation='relu', kernel_regularizer=wd),\n",
    "    tf.keras.layers.Dropout(0.5),\n",
    "    tf.keras.layers.Dense(1, activation='sigmoid')\n",
    "])\n",
    "model.summary()"
   ]
  },
  {
   "cell_type": "code",
   "execution_count": 17,
   "metadata": {},
   "outputs": [
    {
     "name": "stdout",
     "output_type": "stream",
     "text": [
      "Epoch 1/15\n",
      "124/124 [==============================] - ETA: 0s - loss: 2.9140 - auc_2: 0.6193\n",
      "Epoch 00001: val_loss improved from inf to 2.48873, saving model to best_model.h5\n",
      "124/124 [==============================] - 3s 28ms/step - loss: 2.9140 - auc_2: 0.6193 - val_loss: 2.4887 - val_auc_2: 0.8714\n",
      "Epoch 2/15\n",
      "124/124 [==============================] - ETA: 0s - loss: 2.2706 - auc_2: 0.7961\n",
      "Epoch 00002: val_loss improved from 2.48873 to 2.02355, saving model to best_model.h5\n",
      "124/124 [==============================] - 3s 24ms/step - loss: 2.2706 - auc_2: 0.7961 - val_loss: 2.0235 - val_auc_2: 0.8840\n",
      "Epoch 3/15\n",
      "124/124 [==============================] - ETA: 0s - loss: 1.8566 - auc_2: 0.8383\n",
      "Epoch 00003: val_loss improved from 2.02355 to 1.66334, saving model to best_model.h5\n",
      "124/124 [==============================] - 3s 24ms/step - loss: 1.8566 - auc_2: 0.8383 - val_loss: 1.6633 - val_auc_2: 0.8941\n",
      "Epoch 4/15\n",
      "124/124 [==============================] - ETA: 0s - loss: 1.5293 - auc_2: 0.8661\n",
      "Epoch 00004: val_loss improved from 1.66334 to 1.37820, saving model to best_model.h5\n",
      "124/124 [==============================] - 3s 24ms/step - loss: 1.5293 - auc_2: 0.8661 - val_loss: 1.3782 - val_auc_2: 0.9039\n",
      "Epoch 5/15\n",
      "124/124 [==============================] - ETA: 0s - loss: 1.2718 - auc_2: 0.8812- ETA: 1s - loss\n",
      "Epoch 00005: val_loss improved from 1.37820 to 1.14996, saving model to best_model.h5\n",
      "124/124 [==============================] - 3s 24ms/step - loss: 1.2718 - auc_2: 0.8812 - val_loss: 1.1500 - val_auc_2: 0.9139\n",
      "Epoch 6/15\n",
      "124/124 [==============================] - ETA: 0s - loss: 1.0609 - auc_2: 0.9000\n",
      "Epoch 00006: val_loss improved from 1.14996 to 0.96510, saving model to best_model.h5\n",
      "124/124 [==============================] - 3s 24ms/step - loss: 1.0609 - auc_2: 0.9000 - val_loss: 0.9651 - val_auc_2: 0.9218\n",
      "Epoch 7/15\n",
      "124/124 [==============================] - ETA: 0s - loss: 0.8920 - auc_2: 0.9122- ETA: 0s - loss: 0.8983 - auc_2: 0.9\n",
      "Epoch 00007: val_loss improved from 0.96510 to 0.81780, saving model to best_model.h5\n",
      "124/124 [==============================] - 3s 24ms/step - loss: 0.8920 - auc_2: 0.9122 - val_loss: 0.8178 - val_auc_2: 0.9299\n",
      "Epoch 8/15\n",
      "124/124 [==============================] - ETA: 0s - loss: 0.7540 - auc_2: 0.9247\n",
      "Epoch 00008: val_loss improved from 0.81780 to 0.69747, saving model to best_model.h5\n",
      "124/124 [==============================] - 3s 24ms/step - loss: 0.7540 - auc_2: 0.9247 - val_loss: 0.6975 - val_auc_2: 0.9379\n",
      "Epoch 9/15\n",
      "124/124 [==============================] - ETA: 0s - loss: 0.6423 - auc_2: 0.9356- ETA: 1s - loss: 0. - ETA: 0s - loss: 0.6481 - auc_2\n",
      "Epoch 00009: val_loss improved from 0.69747 to 0.60121, saving model to best_model.h5\n",
      "124/124 [==============================] - 3s 24ms/step - loss: 0.6423 - auc_2: 0.9356 - val_loss: 0.6012 - val_auc_2: 0.9433\n",
      "Epoch 10/15\n",
      "124/124 [==============================] - ETA: 0s - loss: 0.5540 - auc_2: 0.9422- ETA: 0s - loss: 0.5643 - auc\n",
      "Epoch 00010: val_loss improved from 0.60121 to 0.52736, saving model to best_model.h5\n",
      "124/124 [==============================] - 3s 27ms/step - loss: 0.5540 - auc_2: 0.9422 - val_loss: 0.5274 - val_auc_2: 0.9462\n",
      "Epoch 11/15\n",
      "124/124 [==============================] - ETA: 0s - loss: 0.4840 - auc_2: 0.9475\n",
      "Epoch 00011: val_loss improved from 0.52736 to 0.47056, saving model to best_model.h5\n",
      "124/124 [==============================] - 3s 24ms/step - loss: 0.4840 - auc_2: 0.9475 - val_loss: 0.4706 - val_auc_2: 0.9474\n",
      "Epoch 12/15\n",
      "124/124 [==============================] - ETA: 0s - loss: 0.4301 - auc_2: 0.9510\n",
      "Epoch 00012: val_loss improved from 0.47056 to 0.42723, saving model to best_model.h5\n",
      "124/124 [==============================] - 3s 25ms/step - loss: 0.4301 - auc_2: 0.9510 - val_loss: 0.4272 - val_auc_2: 0.9473\n",
      "Epoch 13/15\n",
      "124/124 [==============================] - ETA: 0s - loss: 0.3824 - auc_2: 0.9558\n",
      "Epoch 00013: val_loss improved from 0.42723 to 0.39228, saving model to best_model.h5\n",
      "124/124 [==============================] - 3s 23ms/step - loss: 0.3824 - auc_2: 0.9558 - val_loss: 0.3923 - val_auc_2: 0.9489\n",
      "Epoch 14/15\n",
      "124/124 [==============================] - ETA: 0s - loss: 0.3458 - auc_2: 0.9589- ETA: 2s - loss: 0.3648 - auc_2: 0.95 - ET\n",
      "Epoch 00014: val_loss improved from 0.39228 to 0.36091, saving model to best_model.h5\n",
      "124/124 [==============================] - 3s 24ms/step - loss: 0.3458 - auc_2: 0.9589 - val_loss: 0.3609 - val_auc_2: 0.9481\n",
      "Epoch 15/15\n",
      "124/124 [==============================] - ETA: 0s - loss: 0.3192 - auc_2: 0.9598\n",
      "Epoch 00015: val_loss improved from 0.36091 to 0.34241, saving model to best_model.h5\n",
      "124/124 [==============================] - 4s 28ms/step - loss: 0.3192 - auc_2: 0.9598 - val_loss: 0.3424 - val_auc_2: 0.9460\n",
      "Wall time: 49 s\n"
     ]
    }
   ],
   "source": [
    "%%time\n",
    "num_epochs = 15\n",
    "model.compile(optimizer=tf.keras.optimizers.Adam(1e-4), \n",
    "              loss=tf.keras.losses.BinaryCrossentropy(), \n",
    "              metrics=[tf.keras.metrics.AUC()]\n",
    "             )\n",
    "\n",
    "model_save_path = 'best_model.h5'\n",
    "checkpoint_callback = ModelCheckpoint(model_save_path, \n",
    "                                      save_best_only=True,\n",
    "                                      verbose=1\n",
    "                                     )\n",
    "\n",
    "history = model.fit(\n",
    "    train_dataset, \n",
    "    epochs=num_epochs, \n",
    "    validation_data=val_dataset,\n",
    "    callbacks=[checkpoint_callback])"
   ]
  },
  {
   "cell_type": "code",
   "execution_count": 18,
   "metadata": {},
   "outputs": [
    {
     "data": {
      "image/png": "[encoded data removed]",
      "text/plain": [
       "<Figure size 432x288 with 1 Axes>"
      ]
     },
     "metadata": {
      "needs_background": "light"
     },
     "output_type": "display_data"
    },
    {
     "data": {
      "image/png": "[encoded data removed]",
      "text/plain": [
       "<Figure size 432x288 with 1 Axes>"
      ]
     },
     "metadata": {
      "needs_background": "light"
     },
     "output_type": "display_data"
    }
   ],
   "source": [
    "def plot_graphs(history, string):\n",
    "    plt.plot(history.history[string])\n",
    "    plt.plot(history.history['val_'+string])\n",
    "    plt.xlabel(\"Epochs\")\n",
    "    plt.ylabel(string)\n",
    "    plt.legend([string, 'val_'+string])\n",
    "    plt.show()\n",
    "    \n",
    "    \n",
    "plot_graphs(history, \"auc_2\")  \n",
    "plot_graphs(history, \"loss\")"
   ]
  },
  {
   "cell_type": "code",
   "execution_count": 19,
   "metadata": {},
   "outputs": [
    {
     "name": "stdout",
     "output_type": "stream",
     "text": [
      "31/31 [==============================] - 0s 7ms/step - loss: 0.3424 - auc_2: 0.9460\n"
     ]
    }
   ],
   "source": [
    "model.load_weights(model_save_path)\n",
    "scores_GRU = model.evaluate(val_dataset)"
   ]
  },
  {
   "cell_type": "markdown",
   "metadata": {},
   "source": [
    "Для сравнения результатов работы трех сетей использовались одинаковые классификаторы. Также одинаковое количество рекуррентных слоев и одинаковое количество ячеек в слоях."
   ]
  },
  {
   "cell_type": "code",
   "execution_count": 20,
   "metadata": {},
   "outputs": [
    {
     "data": {
      "text/plain": [
       "[0.5167257785797119, 0.9418167471885681]"
      ]
     },
     "execution_count": 20,
     "metadata": {},
     "output_type": "execute_result"
    }
   ],
   "source": [
    "scores_RNN"
   ]
  },
  {
   "cell_type": "code",
   "execution_count": 21,
   "metadata": {},
   "outputs": [
    {
     "data": {
      "text/plain": [
       "[0.3991452753543854, 0.9395708441734314]"
      ]
     },
     "execution_count": 21,
     "metadata": {},
     "output_type": "execute_result"
    }
   ],
   "source": [
    "scores_LSTM"
   ]
  },
  {
   "cell_type": "code",
   "execution_count": 22,
   "metadata": {},
   "outputs": [
    {
     "data": {
      "text/plain": [
       "[0.34241074323654175, 0.9459704756736755]"
      ]
     },
     "execution_count": 22,
     "metadata": {},
     "output_type": "execute_result"
    }
   ],
   "source": [
    "scores_GRU"
   ]
  },
  {
   "cell_type": "markdown",
   "metadata": {},
   "source": [
    "Все три сети быстро переобучились, лучшее качество показала сеть GRU."
   ]
  }
 ],
 "metadata": {
  "kernelspec": {
   "display_name": "Python 3",
   "language": "python",
   "name": "python3"
  },
  "language_info": {
   "codemirror_mode": {
    "name": "ipython",
    "version": 3
   },
   "file_extension": ".py",
   "mimetype": "text/x-python",
   "name": "python",
   "nbconvert_exporter": "python",
   "pygments_lexer": "ipython3",
   "version": "3.7.6"
  }
 },
 "nbformat": 4,
 "nbformat_minor": 4
}
